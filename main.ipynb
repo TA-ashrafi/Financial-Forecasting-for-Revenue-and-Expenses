{
 "cells": [
  {
   "cell_type": "markdown",
   "id": "fe72bb2a",
   "metadata": {},
   "source": [
    "### Load Libraries"
   ]
  },
  {
   "cell_type": "code",
   "execution_count": null,
   "id": "361355d2",
   "metadata": {},
   "outputs": [
    {
     "name": "stdout",
     "output_type": "stream",
     "text": [
      "All libraries imported successfully!\n"
     ]
    }
   ],
   "source": [
    "import pandas as pd\n",
    "import numpy as np\n",
    "import prophet\n",
    "import matplotlib.pyplot as plt\n",
    "import seaborn as sns\n",
    "import yfinance as yf\n",
    "print(\"All libraries imported successfully!\")"
   ]
  },
  {
   "cell_type": "markdown",
   "id": "b2b60d1d",
   "metadata": {},
   "source": [
    "### Get Data from EDGAR using edgartool package"
   ]
  },
  {
   "cell_type": "code",
   "execution_count": 40,
   "id": "48641c2f",
   "metadata": {},
   "outputs": [
    {
     "name": "stdout",
     "output_type": "stream",
     "text": [
      "            Tax Effect Of Unusual Items  Tax Rate For Calcs  \\\n",
      "2025-06-30                          0.0            0.163997   \n",
      "2025-03-31                          0.0            0.155000   \n",
      "2024-12-31                          0.0            0.147000   \n",
      "2024-09-30                          0.0            0.210000   \n",
      "2024-06-30                          0.0            0.159000   \n",
      "\n",
      "            Normalized EBITDA  \\\n",
      "2025-06-30       3.103200e+10   \n",
      "2025-03-31       3.225000e+10   \n",
      "2024-12-31       4.591200e+10   \n",
      "2024-09-30       3.250200e+10   \n",
      "2024-06-30       2.820200e+10   \n",
      "\n",
      "            Net Income From Continuing Operation Net Minority Interest  \\\n",
      "2025-06-30                                       2.343400e+10            \n",
      "2025-03-31                                       2.478000e+10            \n",
      "2024-12-31                                       3.633000e+10            \n",
      "2024-09-30                                       1.473600e+10            \n",
      "2024-06-30                                       2.144800e+10            \n",
      "\n",
      "            Reconciled Depreciation  Reconciled Cost Of Revenue        EBITDA  \\\n",
      "2025-06-30             2.830000e+09                5.031800e+10  3.103200e+10   \n",
      "2025-03-31             2.661000e+09                5.049200e+10  3.225000e+10   \n",
      "2024-12-31             3.080000e+09                6.602500e+10  4.591200e+10   \n",
      "2024-09-30             2.911000e+09                5.105100e+10  3.250200e+10   \n",
      "2024-06-30             2.850000e+09                4.609900e+10  2.820200e+10   \n",
      "\n",
      "                    EBIT  Normalized Income  \\\n",
      "2025-06-30  2.820200e+10       2.343400e+10   \n",
      "2025-03-31  2.958900e+10       2.478000e+10   \n",
      "2024-12-31  4.283200e+10       3.633000e+10   \n",
      "2024-09-30  2.959100e+10       1.473600e+10   \n",
      "2024-06-30  2.535200e+10       2.144800e+10   \n",
      "\n",
      "            Net Income From Continuing And Discontinued Operation  ...  \\\n",
      "2025-06-30                                       2.343400e+10      ...   \n",
      "2025-03-31                                       2.478000e+10      ...   \n",
      "2024-12-31                                       3.633000e+10      ...   \n",
      "2024-09-30                                       1.473600e+10      ...   \n",
      "2024-06-30                                       2.144800e+10      ...   \n",
      "\n",
      "            Other Income Expense  Other Non Operating Income Expenses  \\\n",
      "2025-06-30          -171000000.0                         -171000000.0   \n",
      "2025-03-31          -279000000.0                         -279000000.0   \n",
      "2024-12-31          -248000000.0                         -248000000.0   \n",
      "2024-09-30            19000000.0                           19000000.0   \n",
      "2024-06-30           142000000.0                          142000000.0   \n",
      "\n",
      "            Operating Income  Operating Expense  Research And Development  \\\n",
      "2025-06-30      2.820200e+10       1.551600e+10              8.866000e+09   \n",
      "2025-03-31      2.958900e+10       1.527800e+10              8.550000e+09   \n",
      "2024-12-31      4.283200e+10       1.544300e+10              8.268000e+09   \n",
      "2024-09-30      2.959100e+10       1.428800e+10              7.765000e+09   \n",
      "2024-06-30      2.535200e+10       1.432600e+10              8.006000e+09   \n",
      "\n",
      "            Selling General And Administration  Gross Profit  Cost Of Revenue  \\\n",
      "2025-06-30                        6.650000e+09  4.371800e+10     5.031800e+10   \n",
      "2025-03-31                        6.728000e+09  4.486700e+10     5.049200e+10   \n",
      "2024-12-31                        7.175000e+09  5.827500e+10     6.602500e+10   \n",
      "2024-09-30                        6.523000e+09  4.387900e+10     5.105100e+10   \n",
      "2024-06-30                        6.320000e+09  3.967800e+10     4.609900e+10   \n",
      "\n",
      "            Total Revenue  Operating Revenue  \n",
      "2025-06-30   9.403600e+10       9.403600e+10  \n",
      "2025-03-31   9.535900e+10       9.535900e+10  \n",
      "2024-12-31   1.243000e+11       1.243000e+11  \n",
      "2024-09-30   9.493000e+10       9.493000e+10  \n",
      "2024-06-30   8.577700e+10       8.577700e+10  \n",
      "\n",
      "[5 rows x 33 columns]\n"
     ]
    }
   ],
   "source": [
    "ticker = yf.Ticker(\"AAPL\")\n",
    "financials = ticker.quarterly_financials.T  # Get quarterly data\n",
    "financials.to_csv(\"apple_quarterly_financials.csv\")\n",
    "print(financials.head())"
   ]
  },
  {
   "cell_type": "code",
   "execution_count": null,
   "id": "78a29cd0",
   "metadata": {},
   "outputs": [],
   "source": []
  }
 ],
 "metadata": {
  "kernelspec": {
   "display_name": "Python 3",
   "language": "python",
   "name": "python3"
  },
  "language_info": {
   "codemirror_mode": {
    "name": "ipython",
    "version": 3
   },
   "file_extension": ".py",
   "mimetype": "text/x-python",
   "name": "python",
   "nbconvert_exporter": "python",
   "pygments_lexer": "ipython3",
   "version": "3.10.9"
  }
 },
 "nbformat": 4,
 "nbformat_minor": 5
}
